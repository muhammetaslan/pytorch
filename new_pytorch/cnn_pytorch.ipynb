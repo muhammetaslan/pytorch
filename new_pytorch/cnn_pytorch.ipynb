{
 "cells": [
  {
   "cell_type": "code",
   "execution_count": 2,
   "metadata": {},
   "outputs": [],
   "source": [
    "import os\n",
    "import cv2\n",
    "import numpy as np\n",
    "# tqdm progress bar için kullanılan bir module\n",
    "from tqdm import tqdm\n",
    "\n",
    "# set to true to one once, then back to false unless you want to change something in your training data.\n",
    "REBUILD_DATA = True"
   ]
  },
  {
   "cell_type": "code",
   "execution_count": 3,
   "metadata": {},
   "outputs": [
    {
     "name": "stderr",
     "output_type": "stream",
     "text": [
      "\r",
      "  0%|          | 0/12501 [00:00<?, ?it/s]"
     ]
    },
    {
     "name": "stdout",
     "output_type": "stream",
     "text": [
      "labels : PetImages/Cat\n"
     ]
    },
    {
     "name": "stderr",
     "output_type": "stream",
     "text": [
      "100%|██████████| 12501/12501 [00:41<00:00, 298.32it/s]\n",
      "  0%|          | 10/12501 [00:00<02:12, 94.47it/s]"
     ]
    },
    {
     "name": "stdout",
     "output_type": "stream",
     "text": [
      "labels : PetImages/Dog\n"
     ]
    },
    {
     "name": "stderr",
     "output_type": "stream",
     "text": [
      "100%|██████████| 12501/12501 [00:53<00:00, 233.16it/s]\n"
     ]
    },
    {
     "name": "stdout",
     "output_type": "stream",
     "text": [
      "Cats: 12476\n",
      "Dogs: 12470\n"
     ]
    }
   ],
   "source": [
    "class DogVSCat():\n",
    "    # all images are different size ,so we should resize them befero the cnn\n",
    "    IMG_SIZE = 50\n",
    "    CATS = \"PetImages/Cat\"\n",
    "    DOGS = \"PetImages/Dog\"\n",
    "    TESTING = \"PetImages/Testing\"\n",
    "    LABELS = {CATS: 0, DOGS: 1}\n",
    "    training_data = []\n",
    "    \n",
    "    catcount = 0\n",
    "    dogcount = 0  \n",
    "     \n",
    "    def make_training_data(self):\n",
    "        \n",
    "        for label in self.LABELS:\n",
    "            print(\"labels : \" + str(label))\n",
    "            for f in tqdm(os.listdir(label)):\n",
    "                try:\n",
    "                    path = os.path.join(label, f)\n",
    "                    # kedi ve köpekleri ayırt etmede renk farklı çokda önemli değildir. Ana nokta bu işte \n",
    "                    # patterns ler bu sebeple imajları gray scale olarak çeviriyoruz\n",
    "                    img = cv2.imread(path, cv2.IMREAD_GRAYSCALE)\n",
    "                    # resize the all images in 50*50\n",
    "                    img = cv2.resize(img, (self.IMG_SIZE, self.IMG_SIZE))\n",
    "                    # işlemden geçmiş tüm img leri training_data listesine appand edeceğiz\n",
    "                    self.training_data.append([np.array(img), np.eye(2)[self.LABELS[label]] ])\n",
    "\n",
    "                    if label == self.CATS:\n",
    "                        self.catcount += 1\n",
    "                    elif label == self.DOGS:\n",
    "                        self.dogcount += 1\n",
    "                                               \n",
    "                except Exception as e:\n",
    "                    pass\n",
    "                    #print(str(e))\n",
    "                                             \n",
    "        np.random.shuffle(self.training_data)\n",
    "        np.save(\"training_data.npy\", self.training_data)\n",
    "        print('Cats:',self.catcount)\n",
    "        print('Dogs:',self.dogcount)  \n",
    "                                               \n",
    "if REBUILD_DATA:\n",
    "    dogvscat = DogVSCat()\n",
    "    dogvscat.make_training_data()"
   ]
  },
  {
   "cell_type": "code",
   "execution_count": 9,
   "metadata": {},
   "outputs": [
    {
     "name": "stdout",
     "output_type": "stream",
     "text": [
      "24946\n",
      "[[array([[ 65,  64,  61, ...,  52,  51,  50],\n",
      "       [ 50,  52,  46, ...,  54,  50,  53],\n",
      "       [ 53,  48,  49, ...,  35,  35,  36],\n",
      "       ...,\n",
      "       [ 39,  45,  39, ..., 155, 149, 151],\n",
      "       [ 37,  46,  46, ..., 156, 146, 152],\n",
      "       [ 32,  31,  25, ..., 157, 151, 154]], dtype=uint8)\n",
      "  array([0., 1.])]\n",
      " [array([[254, 254, 254, ..., 134, 160, 124],\n",
      "       [254, 254, 254, ..., 150, 161, 158],\n",
      "       [246, 251, 253, ..., 151, 133, 143],\n",
      "       ...,\n",
      "       [212, 129, 213, ..., 207, 209, 226],\n",
      "       [205, 228, 196, ..., 200, 212, 236],\n",
      "       [184, 182, 204, ..., 243, 243, 245]], dtype=uint8)\n",
      "  array([0., 1.])]\n",
      " [array([[ 88,  88,  88, ..., 169, 155, 119],\n",
      "       [ 88,  88,  88, ..., 199, 161, 144],\n",
      "       [ 88,  88,  88, ..., 115, 122, 168],\n",
      "       ...,\n",
      "       [160, 175, 158, ..., 117, 114, 164],\n",
      "       [168, 180, 107, ..., 142, 113, 126],\n",
      "       [183, 164, 158, ..., 180, 119, 149]], dtype=uint8)\n",
      "  array([1., 0.])]\n",
      " ...\n",
      " [array([[169, 170, 175, ..., 230, 229, 223],\n",
      "       [171, 170, 175, ..., 228, 224, 216],\n",
      "       [171, 172, 176, ..., 211, 205, 181],\n",
      "       ...,\n",
      "       [130, 133, 129, ..., 174, 180, 188],\n",
      "       [126, 132, 129, ..., 140, 148, 181],\n",
      "       [130, 126, 126, ..., 135, 139, 162]], dtype=uint8)\n",
      "  array([1., 0.])]\n",
      " [array([[150, 142, 134, ...,  43, 126, 147],\n",
      "       [137, 127, 121, ...,  43, 155, 124],\n",
      "       [125, 122, 169, ..., 161, 158, 142],\n",
      "       ...,\n",
      "       [126, 104, 108, ..., 101, 127, 114],\n",
      "       [135, 140,  82, ..., 109, 133, 140],\n",
      "       [ 94, 128, 141, ..., 127, 106, 163]], dtype=uint8)\n",
      "  array([0., 1.])]\n",
      " [array([[151, 145, 183, ..., 155, 169, 175],\n",
      "       [153, 200, 190, ..., 161, 143, 138],\n",
      "       [152, 180, 178, ...,  99, 124, 109],\n",
      "       ...,\n",
      "       [142, 158, 159, ..., 247, 255, 255],\n",
      "       [136, 154, 114, ..., 201, 252, 255],\n",
      "       [144, 150, 158, ..., 253, 249, 248]], dtype=uint8)\n",
      "  array([0., 1.])]]\n"
     ]
    }
   ],
   "source": [
    "training_data = np.load(\"training_data.npy\",allow_pickle=True)\n",
    "print(len(training_data))\n",
    "\n",
    "print(training_data)"
   ]
  },
  {
   "cell_type": "code",
   "execution_count": 10,
   "metadata": {},
   "outputs": [
    {
     "data": {
      "image/png": "[encoded data removed]",
      "text/plain": [
       "<Figure size 432x288 with 1 Axes>"
      ]
     },
     "metadata": {
      "needs_background": "light"
     },
     "output_type": "display_data"
    },
    {
     "name": "stdout",
     "output_type": "stream",
     "text": [
      "[1. 0.]\n"
     ]
    }
   ],
   "source": [
    "import matplotlib.pyplot as plt\n",
    "\n",
    "plt.imshow(training_data[18000,0], cmap=\"gray\")\n",
    "plt.show()\n",
    "\n",
    "print(training_data[18000,1])"
   ]
  },
  {
   "cell_type": "code",
   "execution_count": 11,
   "metadata": {},
   "outputs": [],
   "source": [
    "import torch\n",
    "import torch.nn as nn\n",
    "import torch.nn.functional as F"
   ]
  },
  {
   "cell_type": "code",
   "execution_count": 31,
   "metadata": {},
   "outputs": [
    {
     "name": "stdout",
     "output_type": "stream",
     "text": [
      "__init__\n",
      "512\n",
      "Net(\n",
      "  (conv1): Conv2d(1, 32, kernel_size=(5, 5), stride=(1, 1))\n",
      "  (conv2): Conv2d(32, 64, kernel_size=(5, 5), stride=(1, 1))\n",
      "  (conv3): Conv2d(64, 128, kernel_size=(5, 5), stride=(1, 1))\n",
      "  (fc1): Linear(in_features=512, out_features=512, bias=True)\n",
      "  (fc2): Linear(in_features=512, out_features=2, bias=True)\n",
      ")\n"
     ]
    }
   ],
   "source": [
    "class Net(nn.Module):\n",
    "    def __init__(self):\n",
    "        super().__init__()\n",
    "        # input is 1 images, 32 output , 5 is the kernel size 5*5\n",
    "        self.conv1 = nn.Conv2d(1, 32, 5)\n",
    "        self.conv2 = nn.Conv2d(32, 64, 5)\n",
    "        self.conv3 = nn.Conv2d(64, 128, 5)\n",
    "        \n",
    "        # burada yapay bir x input oluşturluyor flatten layer'ın input size ını belirlemek için.\n",
    "        x = torch.randn(50,50).view(-1,1,50,50)\n",
    "        self._to_linear = None\n",
    "        self.convs(x)\n",
    "        \n",
    "        print(\"__init__\")\n",
    "        print(self._to_linear)\n",
    "        \n",
    "        # _to_linear değeri ile fully connected layer öncesi input size belli\n",
    "        self.fc1 = nn.Linear(self._to_linear, 512) #flattening.\n",
    "        self.fc2 = nn.Linear(512, 2) # 512 in, 2 out bc we're doing 2 classes (dog vs cat).\n",
    "\n",
    "    def convs(self, x):\n",
    "        # max pooling over 2x2\n",
    "        x = F.max_pool2d(F.relu(self.conv1(x)), (2, 2))\n",
    "        x = F.max_pool2d(F.relu(self.conv2(x)), (2, 2))\n",
    "        x = F.max_pool2d(F.relu(self.conv3(x)), (2, 2))\n",
    "        \n",
    "        #print(\"#conv\")\n",
    "        #print(x.shape)\n",
    "        \n",
    "        # fcn den önce flatten layer size belirlenmesi.\n",
    "        if self._to_linear is None:\n",
    "            self._to_linear = x[0].shape[0]*x[0].shape[1]*x[0].shape[2]\n",
    "        return x\n",
    "    \n",
    "    def forward(self, x):\n",
    "        x = self.convs(x)\n",
    "        x = x.view(-1, self._to_linear)  # .view is reshape ... this flattens X before \n",
    "        x = F.relu(self.fc1(x))\n",
    "        x = self.fc2(x) # bc this is our output layer. No activation here.\n",
    "        return F.softmax(x, dim=1)\n",
    "\n",
    "\n",
    "net = Net()\n",
    "print(net)"
   ]
  },
  {
   "cell_type": "code",
   "execution_count": 32,
   "metadata": {},
   "outputs": [],
   "source": [
    "import torch.optim as optim\n",
    "\n",
    "optimizer = optim.Adam(net.parameters(), lr = 0.001)\n",
    "loss_function = nn.MSELoss()"
   ]
  },
  {
   "cell_type": "code",
   "execution_count": 33,
   "metadata": {},
   "outputs": [
    {
     "name": "stdout",
     "output_type": "stream",
     "text": [
      "2494\n"
     ]
    }
   ],
   "source": [
    "X = torch.Tensor([i[0] for i in training_data]).view(-1, 50, 50)\n",
    "X = X/255.0\n",
    "\n",
    "y = torch.Tensor([i[1] for i in training_data])\n",
    "\n",
    "VAL_PCT = 0.1\n",
    "val_size = int(len(X)*VAL_PCT)\n",
    "\n",
    "print(val_size)"
   ]
  },
  {
   "cell_type": "code",
   "execution_count": 34,
   "metadata": {},
   "outputs": [
    {
     "name": "stdout",
     "output_type": "stream",
     "text": [
      "22452\n",
      "2494\n"
     ]
    }
   ],
   "source": [
    "train_X = X[:-val_size]\n",
    "train_y = y[:-val_size]\n",
    "\n",
    "test_X = X[-val_size:]\n",
    "test_y = y[-val_size:]\n",
    "\n",
    "print(len(train_X))\n",
    "print(len(test_X))"
   ]
  },
  {
   "cell_type": "code",
   "execution_count": 37,
   "metadata": {},
   "outputs": [
    {
     "name": "stderr",
     "output_type": "stream",
     "text": [
      "100%|██████████| 225/225 [00:58<00:00,  3.85it/s]\n",
      "100%|██████████| 225/225 [01:27<00:00,  2.56it/s]"
     ]
    },
    {
     "name": "stdout",
     "output_type": "stream",
     "text": [
      "tensor(0.1516, grad_fn=<MseLossBackward>)\n"
     ]
    },
    {
     "name": "stderr",
     "output_type": "stream",
     "text": [
      "\n"
     ]
    }
   ],
   "source": [
    "BATCH_SIZE = 100\n",
    "EPOCH = 2\n",
    "\n",
    "for epoch in range(EPOCH):\n",
    "    # tdqm argu. fist staring point ; second last; last step size\n",
    "    for i in tqdm(range(0, len(train_X), BATCH_SIZE)):\n",
    "        #print(i, i+BATCH_SIZE)\n",
    "        batch_x = train_X[i:i+BATCH_SIZE].view(-1,1,50,50)\n",
    "        batch_y = train_y[i:i+BATCH_SIZE]\n",
    "        \n",
    "        net.zero_grad()\n",
    "        outputs = net(batch_x)\n",
    "        loss = loss_function(outputs, batch_y)\n",
    "        loss.backward()\n",
    "        optimizer.step()\n",
    "        \n",
    "print(loss)"
   ]
  },
  {
   "cell_type": "code",
   "execution_count": 36,
   "metadata": {},
   "outputs": [
    {
     "name": "stderr",
     "output_type": "stream",
     "text": [
      "100%|██████████| 2494/2494 [00:08<00:00, 292.64it/s]"
     ]
    },
    {
     "name": "stdout",
     "output_type": "stream",
     "text": [
      "Accuracy:  0.629\n"
     ]
    },
    {
     "name": "stderr",
     "output_type": "stream",
     "text": [
      "\n"
     ]
    }
   ],
   "source": [
    "correct = 0\n",
    "total = 0\n",
    "with torch.no_grad():\n",
    "    for i in tqdm(range(len(test_X))):\n",
    "        real_class = torch.argmax(test_y[i])\n",
    "        net_out = net(test_X[i].view(-1, 1, 50, 50))[0]  # returns a list, \n",
    "        predicted_class = torch.argmax(net_out)\n",
    "\n",
    "        if predicted_class == real_class:\n",
    "            correct += 1\n",
    "        total += 1\n",
    "print(\"Accuracy: \", round(correct/total, 3))"
   ]
  },
  {
   "cell_type": "code",
   "execution_count": null,
   "metadata": {},
   "outputs": [],
   "source": []
  }
 ],
 "metadata": {
  "kernelspec": {
   "display_name": "Python 3",
   "language": "python",
   "name": "python3"
  },
  "language_info": {
   "codemirror_mode": {
    "name": "ipython",
    "version": 3
   },
   "file_extension": ".py",
   "mimetype": "text/x-python",
   "name": "python",
   "nbconvert_exporter": "python",
   "pygments_lexer": "ipython3",
   "version": "3.7.3"
  }
 },
 "nbformat": 4,
 "nbformat_minor": 4
}
