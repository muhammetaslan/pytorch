{
 "cells": [
  {
   "cell_type": "code",
   "execution_count": 26,
   "metadata": {},
   "outputs": [],
   "source": [
    "import os\n",
    "import cv2\n",
    "import numpy as np\n",
    "# tqdm progress bar için kullanılan bir module\n",
    "from tqdm import tqdm\n",
    "\n",
    "# set to true to one once, then back to false unless you want to change something in your training data.\n",
    "REBUILD_DATA = True"
   ]
  },
  {
   "cell_type": "code",
   "execution_count": 33,
   "metadata": {},
   "outputs": [
    {
     "name": "stderr",
     "output_type": "stream",
     "text": [
      "  1%|          | 99/12501 [00:00<00:12, 988.54it/s]"
     ]
    },
    {
     "name": "stdout",
     "output_type": "stream",
     "text": [
      "labels : PetImages/Cat\n"
     ]
    },
    {
     "name": "stderr",
     "output_type": "stream",
     "text": [
      "100%|██████████| 12501/12501 [00:12<00:00, 1014.15it/s]\n",
      "  1%|          | 83/12501 [00:00<00:15, 820.62it/s]"
     ]
    },
    {
     "name": "stdout",
     "output_type": "stream",
     "text": [
      "labels : PetImages/Dog\n"
     ]
    },
    {
     "name": "stderr",
     "output_type": "stream",
     "text": [
      "100%|██████████| 12501/12501 [00:13<00:00, 943.87it/s]\n"
     ]
    },
    {
     "name": "stdout",
     "output_type": "stream",
     "text": [
      "Cats: 12476\n",
      "Dogs: 12470\n"
     ]
    }
   ],
   "source": [
    "class DogVSCat():\n",
    "    # all images are different size ,so we should resize them befero the cnn\n",
    "    IMG_SIZE = 50\n",
    "    CATS = \"PetImages/Cat\"\n",
    "    DOGS = \"PetImages/Dog\"\n",
    "    TESTING = \"PetImages/Testing\"\n",
    "    LABELS = {CATS: 0, DOGS: 1}\n",
    "    training_data = []\n",
    "    \n",
    "    catcount = 0\n",
    "    dogcount = 0  \n",
    "     \n",
    "    def make_training_data(self):\n",
    "        \n",
    "        for label in self.LABELS:\n",
    "            print(\"labels : \" + str(label))\n",
    "            for f in tqdm(os.listdir(label)):\n",
    "                try:\n",
    "                    path = os.path.join(label, f)\n",
    "                    # kedi ve köpekleri ayırt etmede renk farklı çokda önemli değildir. Ana nokta bu işte \n",
    "                    # patterns ler bu sebeple imajları gray scale olarak çeviriyoruz\n",
    "                    img = cv2.imread(path, cv2.IMREAD_GRAYSCALE)\n",
    "                    # resize the all images in 50*50\n",
    "                    img = cv2.resize(img, (self.IMG_SIZE, self.IMG_SIZE))\n",
    "                    # işlemden geçmiş tüm img leri training_data listesine appand edeceğiz\n",
    "                    self.training_data.append([np.array(img), np.eye(2)[self.LABELS[label]] ])\n",
    "\n",
    "                    if label == self.CATS:\n",
    "                        self.catcount += 1\n",
    "                    elif label == self.DOGS:\n",
    "                        self.dogcount += 1\n",
    "                                               \n",
    "                except Exception as e:\n",
    "                    pass\n",
    "                    #print(str(e))\n",
    "                                             \n",
    "        np.random.shuffle(self.training_data)\n",
    "        np.save(\"training_data.npy\", self.training_data)\n",
    "        print('Cats:',self.catcount)\n",
    "        print('Dogs:',self.dogcount)  \n",
    "                                               \n",
    "if REBUILD_DATA:\n",
    "    dogvscat = DogVSCat()\n",
    "    dogvscat.make_training_data()"
   ]
  },
  {
   "cell_type": "code",
   "execution_count": 34,
   "metadata": {},
   "outputs": [
    {
     "name": "stdout",
     "output_type": "stream",
     "text": [
      "24946\n",
      "[[array([[ 74,  19, 112, ...,  29,  24, 135],\n",
      "       [ 70,  85,  45, ...,  31,  28, 146],\n",
      "       [ 59,  38,  68, ...,  28,  41, 145],\n",
      "       ...,\n",
      "       [191, 199, 199, ..., 132, 151, 129],\n",
      "       [213, 208, 216, ..., 126, 133, 131],\n",
      "       [209, 218, 201, ..., 131, 133, 129]], dtype=uint8)\n",
      "  array([0., 1.])]\n",
      " [array([[ 28,  32,  26, ...,  49,  51,  52],\n",
      "       [ 24,  25,  28, ...,  54,  63,  53],\n",
      "       [ 31,  25,  26, ...,  50,  55,  65],\n",
      "       ...,\n",
      "       [ 79,  88,  81, ...,  87,  88,  92],\n",
      "       [ 85,  81,  70, ..., 109, 116, 118],\n",
      "       [ 87,  85,  72, ..., 111, 123, 112]], dtype=uint8)\n",
      "  array([0., 1.])]\n",
      " [array([[107, 104, 105, ...,  83,  88,  89],\n",
      "       [115, 108, 109, ...,  90, 109, 106],\n",
      "       [103, 100, 123, ...,  70,  83,  92],\n",
      "       ...,\n",
      "       [ 89,  84,  85, ...,  86,  89,  62],\n",
      "       [ 86,  83,  80, ...,  61,  39,  40],\n",
      "       [ 79,  80,  79, ...,  52,  78,  33]], dtype=uint8)\n",
      "  array([0., 1.])]\n",
      " ...\n",
      " [array([[174, 177, 179, ..., 133, 131, 130],\n",
      "       [176, 181, 183, ..., 138, 137, 134],\n",
      "       [185, 187, 184, ..., 138, 137, 135],\n",
      "       ...,\n",
      "       [120, 108, 113, ..., 153, 153, 143],\n",
      "       [115, 117, 111, ..., 155, 148, 146],\n",
      "       [118, 118, 113, ..., 150, 142, 136]], dtype=uint8)\n",
      "  array([0., 1.])]\n",
      " [array([[ 70,  72,  71, ..., 102, 104, 107],\n",
      "       [143, 143, 142, ..., 112, 113, 115],\n",
      "       [163, 163, 163, ..., 122, 120, 125],\n",
      "       ...,\n",
      "       [ 89,  83,  87, ..., 226, 215, 209],\n",
      "       [ 87,  74,  89, ..., 199, 218, 223],\n",
      "       [123, 124, 116, ..., 167, 155, 140]], dtype=uint8)\n",
      "  array([1., 0.])]\n",
      " [array([[171, 169, 170, ..., 164, 167, 141],\n",
      "       [169, 175, 179, ..., 173, 161, 148],\n",
      "       [178, 156, 188, ..., 167, 167, 157],\n",
      "       ...,\n",
      "       [130, 145, 145, ..., 159, 161, 161],\n",
      "       [147, 141, 134, ..., 162, 151, 153],\n",
      "       [146, 138, 140, ..., 144, 157, 160]], dtype=uint8)\n",
      "  array([0., 1.])]]\n"
     ]
    }
   ],
   "source": [
    "training_data = np.load(\"training_data.npy\",allow_pickle=True)\n",
    "print(len(training_data))\n",
    "\n",
    "print(training_data)"
   ]
  },
  {
   "cell_type": "code",
   "execution_count": 58,
   "metadata": {},
   "outputs": [
    {
     "data": {
      "image/png": "[encoded data removed]",
      "text/plain": [
       "<Figure size 432x288 with 1 Axes>"
      ]
     },
     "metadata": {
      "needs_background": "light"
     },
     "output_type": "display_data"
    },
    {
     "name": "stdout",
     "output_type": "stream",
     "text": [
      "[0. 1.]\n"
     ]
    }
   ],
   "source": [
    "import matplotlib.pyplot as plt\n",
    "\n",
    "plt.imshow(training_data[18000,0], cmap=\"gray\")\n",
    "plt.show()\n",
    "\n",
    "print(training_data[18000,1])"
   ]
  },
  {
   "cell_type": "code",
   "execution_count": 62,
   "metadata": {},
   "outputs": [
    {
     "name": "stdout",
     "output_type": "stream",
     "text": [
      "tensor([[0., 1.],\n",
      "        [0., 1.],\n",
      "        [0., 1.],\n",
      "        ...,\n",
      "        [0., 1.],\n",
      "        [1., 0.],\n",
      "        [0., 1.]])\n"
     ]
    }
   ],
   "source": [
    "import torch\n",
    "\n",
    "X = torch.Tensor([i[0] for i in training_data]).view(-1,50,50)\n",
    "X = X / 255.0\n",
    "\n",
    "y = torch.Tensor([i[1] for i in training_data])\n",
    "\n",
    "print(y)"
   ]
  },
  {
   "cell_type": "code",
   "execution_count": null,
   "metadata": {},
   "outputs": [],
   "source": []
  }
 ],
 "metadata": {
  "kernelspec": {
   "display_name": "Python 3",
   "language": "python",
   "name": "python3"
  },
  "language_info": {
   "codemirror_mode": {
    "name": "ipython",
    "version": 3
   },
   "file_extension": ".py",
   "mimetype": "text/x-python",
   "name": "python",
   "nbconvert_exporter": "python",
   "pygments_lexer": "ipython3",
   "version": "3.7.3"
  }
 },
 "nbformat": 4,
 "nbformat_minor": 4
}
