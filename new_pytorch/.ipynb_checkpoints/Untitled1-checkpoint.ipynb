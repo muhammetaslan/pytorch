{
 "cells": [
  {
   "cell_type": "code",
   "execution_count": 5,
   "metadata": {},
   "outputs": [
    {
     "name": "stdout",
     "output_type": "stream",
     "text": [
      "init a\n",
      "\n",
      "class b\n",
      "init b\n",
      "\n",
      "class c\n",
      "init a\n",
      "init c\n"
     ]
    }
   ],
   "source": [
    "class a():\n",
    "    '''Will be a parent class'''\n",
    "    def __init__(self):\n",
    "        print(\"init a\")\n",
    "\n",
    "class b(a):\n",
    "    '''Inherits from a, but does not run a's init method '''\n",
    "    def __init__(self):\n",
    "        print(\"init b\")\n",
    "        \n",
    "class c(a):\n",
    "    '''Inhereits from a, but DOES run a's init method'''\n",
    "    def __init__(self):\n",
    "        super().__init__()\n",
    "        print(\"init c\")\n",
    "        \n",
    "        \n",
    "obj_a = a()\n",
    "print(\"\\nclass b\")\n",
    "obj_b = b()\n",
    "print(\"\\nclass c\")\n",
    "obj_c = c()\n"
   ]
  },
  {
   "cell_type": "code",
   "execution_count": null,
   "metadata": {},
   "outputs": [],
   "source": []
  }
 ],
 "metadata": {
  "kernelspec": {
   "display_name": "Python 3",
   "language": "python",
   "name": "python3"
  },
  "language_info": {
   "codemirror_mode": {
    "name": "ipython",
    "version": 3
   },
   "file_extension": ".py",
   "mimetype": "text/x-python",
   "name": "python",
   "nbconvert_exporter": "python",
   "pygments_lexer": "ipython3",
   "version": "3.7.3"
  }
 },
 "nbformat": 4,
 "nbformat_minor": 4
}
