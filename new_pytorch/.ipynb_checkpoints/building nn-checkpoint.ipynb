{
 "cells": [
  {
   "cell_type": "code",
   "execution_count": 1,
   "metadata": {},
   "outputs": [],
   "source": [
    "import torch\n",
    "\"\"\"  \n",
    "The torch.nn import gives us access to some helpful neural network things, such as various\n",
    "neural network layer types \n",
    "(things like regular fully-connected layers, convolutional layers (for imagery), recurrent layers...etc).\n",
    "\"\"\"\n",
    "import torch.nn as nn \n",
    "\"\"\"\n",
    "The torch.nn.functional area specifically gives us access to some handy functions that we might not \n",
    "want to write ourselves. We will be using the relu or \"rectified linear\" activation \n",
    "function for our neurons. Instead of writing all of the code for these things, we can just import them, \n",
    "\"\"\"\n",
    "import torch.nn.functional as F\n",
    "import torchvision\n",
    "from torchvision import transforms, datasets\n",
    "\n",
    "train = datasets.MNIST('', train=True, download=True,\n",
    "                       transform=transforms.Compose([\n",
    "                           transforms.ToTensor()\n",
    "                       ]))\n",
    "\n",
    "test = datasets.MNIST('', train=False, download=True,\n",
    "                       transform=transforms.Compose([\n",
    "                           transforms.ToTensor()\n",
    "                       ]))\n",
    "\n",
    "trainset = torch.utils.data.DataLoader(train, batch_size=10, shuffle=True)\n",
    "testset = torch.utils.data.DataLoader(test, batch_size=10, shuffle=False)"
   ]
  },
  {
   "cell_type": "code",
   "execution_count": 2,
   "metadata": {},
   "outputs": [
    {
     "name": "stdout",
     "output_type": "stream",
     "text": [
      "Net(\n",
      "  (fc1): Linear(in_features=784, out_features=64, bias=True)\n",
      "  (fc2): Linear(in_features=64, out_features=64, bias=True)\n",
      "  (fc3): Linear(in_features=64, out_features=64, bias=True)\n",
      "  (fc4): Linear(in_features=64, out_features=10, bias=True)\n",
      ")\n"
     ]
    }
   ],
   "source": [
    "\"\"\" \n",
    "All we're doing is just defining values for some layers, \n",
    "we're calling them fc1, fc2...etc, but you could call them whatever you wanted.\n",
    "\"\"\"\n",
    "\n",
    "class Net(nn.Module):\n",
    "    def __init__(self):\n",
    "        super().__init__()\n",
    "        #  The fc just stands for fully connected\n",
    "        self.fc1 = nn.Linear(28*28,64)\n",
    "        self.fc2 = nn.Linear(64,64)\n",
    "        self.fc3 = nn.Linear(64,64)\n",
    "        self.fc4 = nn.Linear(64,10)\n",
    "    \n",
    "    \"\"\"The simplest neural network is fully connected, and feed-forward, meaning we go from input to output.\n",
    "    In one side and out the other in a \"forward\" manner.  \"\"\"\n",
    "    ## forward propagation\n",
    "    def forward(self, x):\n",
    "        # her katman aktivasyon fonksiyonu ile çalışır\n",
    "        x = F.relu(self.fc1(x))\n",
    "        x = F.relu(self.fc2(x))\n",
    "        x = F.relu(self.fc3(x))\n",
    "        \n",
    "        # son layer da relu girmez\n",
    "        x = self.fc4(x)\n",
    "        # multi class output layer için softmax daha iyidir.\n",
    "        # binary classification için ise sigmoid()\n",
    "        # dim = 1 demek softmax daki oluşan 10 neuron için oluşan olasıkların toplamı 1 olmalı demek\n",
    "        return F.log_softmax(x, dim=1)\n",
    "\n",
    "#our nn object\n",
    "net = Net()\n",
    "\n",
    "print(net)"
   ]
  },
  {
   "cell_type": "code",
   "execution_count": 3,
   "metadata": {},
   "outputs": [],
   "source": [
    "\"\"\" Şimdi random bir veri oluşturup kendi ağımıza input olarak vereceğiz\"\"\"\n",
    "\n",
    "X = torch.rand((28,28))\n",
    "\n",
    "# Our neural network wants this to be flattened,\n",
    "\n",
    "X = X.view(-1,28*28)"
   ]
  },
  {
   "cell_type": "code",
   "execution_count": 4,
   "metadata": {},
   "outputs": [
    {
     "data": {
      "text/plain": [
       "tensor([[-2.4482, -2.2557, -2.4065, -2.2806, -2.2526, -2.3749, -2.3015, -2.1830,\n",
       "         -2.2501, -2.3021]], grad_fn=<LogSoftmaxBackward>)"
      ]
     },
     "execution_count": 4,
     "metadata": {},
     "output_type": "execute_result"
    }
   ],
   "source": [
    "output = net(X)\n",
    "output"
   ]
  },
  {
   "cell_type": "code",
   "execution_count": 10,
   "metadata": {},
   "outputs": [
    {
     "name": "stdout",
     "output_type": "stream",
     "text": [
      "tensor(8.3942e-05, grad_fn=<NllLossBackward>)\n",
      "tensor(0.0008, grad_fn=<NllLossBackward>)\n",
      "tensor(0.0002, grad_fn=<NllLossBackward>)\n"
     ]
    }
   ],
   "source": [
    "import torch.optim as optim\n",
    "\n",
    "\"\"\"\n",
    "loss function gerçeklik ile nn deb gelen verileri karşılaştırır.\n",
    "\"\"\"\n",
    "#loss_function = nn.CrossEntropyLoss()\n",
    "# lr is learing rate\n",
    "optimizer = optim.Adam(net.parameters(), lr=0.001)\n",
    "\n",
    "\"\"\"\n",
    "So, for each epoch, and for each batch in our dataset, what do we do?\n",
    "\n",
    "Grab the features (X) and labels (y) from current batch\n",
    "Zero the gradients (net.zero_grad)\n",
    "Pass the data through the network\n",
    "Calculate the loss\n",
    "Adjust weights in the network with the hopes of decreasing loss\n",
    "\n",
    "\"\"\"\n",
    "\n",
    "EPOCHS = 3\n",
    "\n",
    "for epoch in range(EPOCHS):\n",
    "    for data in trainset:\n",
    "        # data is the batch of the features and labels\n",
    "        X , y = data\n",
    "        # her batch öncesi gradientler sıfırlanır loss hesaplama daha verimli olması için\n",
    "        net.zero_grad()\n",
    "        # veriyi view ile reshape yapıp flatten hale getiriyoruz\n",
    "        output = net(X.view(-1,28*28))\n",
    "        # calc and grab the loss value\n",
    "        loss = F.nll_loss(output, y) \n",
    "        # apply this loss backwards thru the network's parameters\n",
    "        loss.backward()\n",
    "        # attempt to optimize weights to account for loss/gradients\n",
    "        optimizer.step()  \n",
    "    print(loss)  # print loss."
   ]
  },
  {
   "cell_type": "code",
   "execution_count": 11,
   "metadata": {},
   "outputs": [
    {
     "name": "stdout",
     "output_type": "stream",
     "text": [
      "Accuracy:  0.975\n"
     ]
    }
   ],
   "source": [
    "correct = 0\n",
    "total = 0\n",
    "# eğittiğimiz modeli testset ile doğruluk oranı için deneyeceğiz\n",
    "with torch.no_grad():\n",
    "    for data in testset:\n",
    "        X, y = data\n",
    "        output = net(X.view(-1,784))\n",
    "        #print(output)\n",
    "        for idx, i in enumerate(output):\n",
    "            #print(torch.argmax(i), y[idx])\n",
    "            if torch.argmax(i) == y[idx]:\n",
    "                correct += 1\n",
    "            total += 1\n",
    "\n",
    "print(\"Accuracy: \", round(correct/total, 3))"
   ]
  },
  {
   "cell_type": "code",
   "execution_count": 23,
   "metadata": {},
   "outputs": [
    {
     "data": {
      "image/png": "[encoded data removed]",
      "text/plain": [
       "<Figure size 432x288 with 1 Axes>"
      ]
     },
     "metadata": {
      "needs_background": "light"
     },
     "output_type": "display_data"
    }
   ],
   "source": [
    "import matplotlib.pyplot as plt\n",
    "\n",
    "plt.imshow(X[4].view(28,28))\n",
    "plt.show()"
   ]
  },
  {
   "cell_type": "code",
   "execution_count": 22,
   "metadata": {},
   "outputs": [
    {
     "name": "stdout",
     "output_type": "stream",
     "text": [
      "tensor(1)\n"
     ]
    }
   ],
   "source": [
    "# valiede etmek için bu yeterli, eğittiğimiz net modeline verdiğimiz X verisine ait inputkarın çıkrılarını argmax\n",
    "# ile alarak test edebiliriz.\n",
    "print(torch.argmax(net(X[4].view(-1,784))))"
   ]
  },
  {
   "cell_type": "code",
   "execution_count": null,
   "metadata": {},
   "outputs": [],
   "source": []
  },
  {
   "cell_type": "code",
   "execution_count": null,
   "metadata": {},
   "outputs": [],
   "source": []
  }
 ],
 "metadata": {
  "kernelspec": {
   "display_name": "Python 3",
   "language": "python",
   "name": "python3"
  },
  "language_info": {
   "codemirror_mode": {
    "name": "ipython",
    "version": 3
   },
   "file_extension": ".py",
   "mimetype": "text/x-python",
   "name": "python",
   "nbconvert_exporter": "python",
   "pygments_lexer": "ipython3",
   "version": "3.7.3"
  }
 },
 "nbformat": 4,
 "nbformat_minor": 4
}
