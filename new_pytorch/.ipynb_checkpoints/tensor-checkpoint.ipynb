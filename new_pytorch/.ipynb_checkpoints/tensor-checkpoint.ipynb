{
 "cells": [
  {
   "cell_type": "code",
   "execution_count": 2,
   "metadata": {},
   "outputs": [],
   "source": [
    "import torch "
   ]
  },
  {
   "cell_type": "code",
   "execution_count": 3,
   "metadata": {},
   "outputs": [
    {
     "name": "stdout",
     "output_type": "stream",
     "text": [
      "1.5.1\n"
     ]
    }
   ],
   "source": [
    "print(torch.__version__)"
   ]
  },
  {
   "cell_type": "code",
   "execution_count": 5,
   "metadata": {},
   "outputs": [
    {
     "name": "stdout",
     "output_type": "stream",
     "text": [
      "tensor([40., 54.])\n"
     ]
    }
   ],
   "source": [
    "# Tensor is the same with numpy\n",
    "x = torch.Tensor([8,6])\n",
    "y = torch.Tensor([5,9])\n",
    "\n",
    "print(x*y)"
   ]
  },
  {
   "cell_type": "code",
   "execution_count": 6,
   "metadata": {},
   "outputs": [],
   "source": [
    "# torch.zeros() can be used in bias initilazaitons\n",
    "p = torch.zeros([8,9])"
   ]
  },
  {
   "cell_type": "code",
   "execution_count": 7,
   "metadata": {},
   "outputs": [
    {
     "data": {
      "text/plain": [
       "tensor([[0., 0., 0., 0., 0., 0., 0., 0., 0.],\n",
       "        [0., 0., 0., 0., 0., 0., 0., 0., 0.],\n",
       "        [0., 0., 0., 0., 0., 0., 0., 0., 0.],\n",
       "        [0., 0., 0., 0., 0., 0., 0., 0., 0.],\n",
       "        [0., 0., 0., 0., 0., 0., 0., 0., 0.],\n",
       "        [0., 0., 0., 0., 0., 0., 0., 0., 0.],\n",
       "        [0., 0., 0., 0., 0., 0., 0., 0., 0.],\n",
       "        [0., 0., 0., 0., 0., 0., 0., 0., 0.]])"
      ]
     },
     "execution_count": 7,
     "metadata": {},
     "output_type": "execute_result"
    }
   ],
   "source": [
    "p"
   ]
  },
  {
   "cell_type": "code",
   "execution_count": 8,
   "metadata": {},
   "outputs": [
    {
     "data": {
      "text/plain": [
       "torch.Size([8, 9])"
      ]
     },
     "execution_count": 8,
     "metadata": {},
     "output_type": "execute_result"
    }
   ],
   "source": [
    "p.shape"
   ]
  },
  {
   "cell_type": "code",
   "execution_count": 9,
   "metadata": {},
   "outputs": [],
   "source": [
    "# torch.rand -> create the random values array\n",
    "r = torch.rand([7,6])"
   ]
  },
  {
   "cell_type": "code",
   "execution_count": 10,
   "metadata": {},
   "outputs": [
    {
     "name": "stdout",
     "output_type": "stream",
     "text": [
      "tensor([[0.7495, 0.5817, 0.9950, 0.8327, 0.2416, 0.7442],\n",
      "        [0.9033, 0.9931, 0.4564, 0.7713, 0.4409, 0.6417],\n",
      "        [0.9460, 0.5085, 0.1725, 0.8095, 0.2678, 0.3378],\n",
      "        [0.3414, 0.5427, 0.1617, 0.2749, 0.9038, 0.6379],\n",
      "        [0.0531, 0.9318, 0.3923, 0.9715, 0.4793, 0.3158],\n",
      "        [0.0403, 0.6211, 0.3289, 0.4633, 0.5279, 0.7769],\n",
      "        [0.2249, 0.0134, 0.6323, 0.1210, 0.2141, 0.9433]])\n"
     ]
    }
   ],
   "source": [
    "print(r)"
   ]
  },
  {
   "cell_type": "code",
   "execution_count": 13,
   "metadata": {},
   "outputs": [
    {
     "data": {
      "text/plain": [
       "tensor([[0.7495, 0.5817, 0.9950, 0.8327, 0.2416, 0.7442, 0.9033, 0.9931, 0.4564,\n",
       "         0.7713, 0.4409, 0.6417, 0.9460, 0.5085, 0.1725, 0.8095, 0.2678, 0.3378,\n",
       "         0.3414, 0.5427, 0.1617, 0.2749, 0.9038, 0.6379, 0.0531, 0.9318, 0.3923,\n",
       "         0.9715, 0.4793, 0.3158, 0.0403, 0.6211, 0.3289, 0.4633, 0.5279, 0.7769,\n",
       "         0.2249, 0.0134, 0.6323, 0.1210, 0.2141, 0.9433]])"
      ]
     },
     "execution_count": 13,
     "metadata": {},
     "output_type": "execute_result"
    }
   ],
   "source": [
    "# in the nn we need to flatten the array, for this reason reshape fonctions is used, we call this function in pytorch view()\n",
    "# view using with tensors\n",
    "r.view([1,42])"
   ]
  },
  {
   "cell_type": "code",
   "execution_count": null,
   "metadata": {},
   "outputs": [],
   "source": []
  }
 ],
 "metadata": {
  "kernelspec": {
   "display_name": "Python 3",
   "language": "python",
   "name": "python3"
  },
  "language_info": {
   "codemirror_mode": {
    "name": "ipython",
    "version": 3
   },
   "file_extension": ".py",
   "mimetype": "text/x-python",
   "name": "python",
   "nbconvert_exporter": "python",
   "pygments_lexer": "ipython3",
   "version": "3.7.3"
  }
 },
 "nbformat": 4,
 "nbformat_minor": 4
}
